{
 "cells": [
  {
   "cell_type": "markdown",
   "metadata": {},
   "source": [
    "# This is Jeopardy!"
   ]
  },
  {
   "cell_type": "markdown",
   "metadata": {},
   "source": [
    "#### Overview"
   ]
  },
  {
   "cell_type": "markdown",
   "metadata": {},
   "source": [
    "This project is slightly different than others you have encountered thus far. Instead of a step-by-step tutorial, this project contains a series of open-ended requirements which describe the project you'll be building. There are many possible ways to correctly fulfill all of these requirements, and you should expect to use the internet, Codecademy, and/or other resources when you encounter a problem that you cannot easily solve."
   ]
  },
  {
   "cell_type": "markdown",
   "metadata": {},
   "source": [
    "#### Project Goals"
   ]
  },
  {
   "cell_type": "markdown",
   "metadata": {},
   "source": [
    "You will work to write several functions that investigate a dataset of _Jeopardy!_ questions and answers. Filter the dataset for topics that you're interested in, compute the average difficulty of those questions, and train to become the next Jeopardy champion!"
   ]
  },
  {
   "cell_type": "markdown",
   "metadata": {},
   "source": [
    "## Prerequisites"
   ]
  },
  {
   "cell_type": "markdown",
   "metadata": {},
   "source": [
    "In order to complete this project, you should have completed the Pandas lessons in the <a href=\"https://www.codecademy.com/learn/paths/analyze-data-with-python\">Analyze Data with Python Skill Path</a>. You can also find those lessons in the <a href=\"https://www.codecademy.com/learn/data-processing-pandas\">Data Analysis with Pandas course</a> or the <a href=\"https://www.codecademy.com/learn/paths/data-science/\">Data Scientist Career Path</a>.\n",
    "\n",
    "Finally, the <a href=\"https://www.codecademy.com/learn/practical-data-cleaning\">Practical Data Cleaning</a> course may also be helpful."
   ]
  },
  {
   "cell_type": "markdown",
   "metadata": {},
   "source": [
    "## Project Requirements"
   ]
  },
  {
   "cell_type": "markdown",
   "metadata": {},
   "source": [
    "1. We've provided a csv file containing data about the game show _Jeopardy!_ in a file named `jeopardy.csv`. Load the data into a DataFrame and investigate its contents. Try to print out specific columns.\n",
    "\n",
    "   Note that in order to make this project as \"real-world\" as possible, we haven't modified the data at all - we're giving it to you exactly how we found it. As a result, this data isn't as \"clean\" as the datasets you normally find on Codecademy. More specifically, there's something odd about the column names. After you figure out the problem with the column names, you may want to rename them to make your life easier for the rest of the project.\n",
    "   \n",
    "   In order to display the full contents of a column, we've added this line of code for you:\n",
    "   \n",
    "   ```py\n",
    "   pd.set_option('display.max_colwidth', None)\n",
    "   ```"
   ]
  },
  {
   "cell_type": "code",
   "execution_count": 67,
   "metadata": {},
   "outputs": [
    {
     "name": "stdout",
     "output_type": "stream",
     "text": [
      "   Show Number    Air Date      Round                         Category Value  \\\n",
      "0         4680  2004-12-31  Jeopardy!                          HISTORY  $200   \n",
      "1         4680  2004-12-31  Jeopardy!  ESPN's TOP 10 ALL-TIME ATHLETES  $200   \n",
      "2         4680  2004-12-31  Jeopardy!      EVERYBODY TALKS ABOUT IT...  $200   \n",
      "3         4680  2004-12-31  Jeopardy!                 THE COMPANY LINE  $200   \n",
      "4         4680  2004-12-31  Jeopardy!              EPITAPHS & TRIBUTES  $200   \n",
      "\n",
      "                                                                                                      Question  \\\n",
      "0             For the last 8 years of his life, Galileo was under house arrest for espousing this man's theory   \n",
      "1  No. 2: 1912 Olympian; football star at Carlisle Indian School; 6 MLB seasons with the Reds, Giants & Braves   \n",
      "2                     The city of Yuma in this state has a record average of 4,055 hours of sunshine each year   \n",
      "3                         In 1963, live on \"The Art Linkletter Show\", this company served its billionth burger   \n",
      "4     Signer of the Dec. of Indep., framer of the Constitution of Mass., second President of the United States   \n",
      "\n",
      "       Answer  \n",
      "0  Copernicus  \n",
      "1  Jim Thorpe  \n",
      "2     Arizona  \n",
      "3  McDonald's  \n",
      "4  John Adams  \n",
      "Index(['Show Number', 'Air Date', 'Round', 'Category', 'Value', 'Question',\n",
      "       'Answer'],\n",
      "      dtype='object')\n"
     ]
    }
   ],
   "source": [
    "import pandas as pd\n",
    "import re\n",
    "from collections import Counter\n",
    "\n",
    "pd.set_option('display.max_colwidth', None)\n",
    "all_data = pd.read_csv('jeopardy.csv')\n",
    "\n",
    "# Remove leading spaces from column names\n",
    "all_data.columns = all_data.columns.str.strip()\n",
    "\n",
    "# print dataset\n",
    "print(all_data.head())\n",
    "# print column names\n",
    "print(all_data.columns)"
   ]
  },
  {
   "cell_type": "markdown",
   "metadata": {},
   "source": [
    "2. Write a function that filters the dataset for questions that contains all of the words in a list of words. For example, when the list `[\"King\", \"England\"]` was passed to our function, the function returned a DataFrame of 49 rows. Every row had the strings `\"King\"` and `\"England\"` somewhere in its `\" Question\"`.\n",
    "\n",
    "   Test your function by printing out the column containing the question of each row of the dataset."
   ]
  },
  {
   "cell_type": "code",
   "execution_count": 68,
   "metadata": {},
   "outputs": [
    {
     "name": "stdout",
     "output_type": "stream",
     "text": [
      "4953                    Both England's King George V & FDR put their stamp of approval on this \"King of Hobbies\"\n",
      "6337      In retaliation for Viking raids, this \"Unready\" king of England attacks Norse areas of the Isle of Man\n",
      "9191                    This king of England beat the odds to trounce the French in the 1415 Battle of Agincourt\n",
      "11710               This Scotsman, the first Stuart king of England, was called \"The Wisest Fool in Christendom\"\n",
      "13454                                       It's the number that followed the last king of England named William\n",
      "                                                           ...                                                  \n",
      "208295        In 1066 this great-great grandson of Rollo made what some call the last Viking invasion of England\n",
      "208742                      Dutch-born king who ruled England jointly with Mary II & is a tasty New Zealand fish\n",
      "213870                In 1781 William Herschel discovered Uranus & initially named it after this king of England\n",
      "216021          His nickname was \"Bertie\", but he used this name & number when he became king of England in 1901\n",
      "216789        This kingdom of England grew from 2 settlements, one founded around 495 by Cerdic & his son Cynric\n",
      "Name: Question, Length: 152, dtype: object\n"
     ]
    }
   ],
   "source": [
    "words = [\"King\", \"England\"]\n",
    "\n",
    "contains_all_words = lambda question: all(word.lower() in question.lower() for word in words)\n",
    "\n",
    "kingEngland_data = all_data[all_data.Question.apply(contains_all_words)]\n",
    "\n",
    "print(kingEngland_data.Question)"
   ]
  },
  {
   "cell_type": "markdown",
   "metadata": {},
   "source": [
    "3. Test your original function with a few different sets of words to try to find some ways your function breaks. Edit your function so it is more robust.\n",
    "\n",
    "   For example, think about capitalization. We probably want to find questions that contain the word `\"King\"` or `\"king\"`.\n",
    "   \n",
    "   You may also want to check to make sure you don't find rows that contain substrings of your given words. For example, our function found a question that didn't contain the word `\"king\"`, however it did contain the word `\"viking\"` &mdash; it found the `\"king\"` inside `\"viking\"`. Note that this also comes with some drawbacks &mdash; you would no longer find questions that contained words like `\"England's\"`."
   ]
  },
  {
   "cell_type": "code",
   "execution_count": 69,
   "metadata": {},
   "outputs": [
    {
     "name": "stdout",
     "output_type": "stream",
     "text": [
      "4953                    Both England's King George V & FDR put their stamp of approval on this \"King of Hobbies\"\n",
      "6337      In retaliation for Viking raids, this \"Unready\" king of England attacks Norse areas of the Isle of Man\n",
      "9191                    This king of England beat the odds to trounce the French in the 1415 Battle of Agincourt\n",
      "11710               This Scotsman, the first Stuart king of England, was called \"The Wisest Fool in Christendom\"\n",
      "13454                                       It's the number that followed the last king of England named William\n",
      "                                                           ...                                                  \n",
      "201168                                  Popular Saint-Exupery character waiting around to become king of England\n",
      "204778                                 This southern colony was named for a king of England, the II of that name\n",
      "208742                      Dutch-born king who ruled England jointly with Mary II & is a tasty New Zealand fish\n",
      "213870                In 1781 William Herschel discovered Uranus & initially named it after this king of England\n",
      "216021          His nickname was \"Bertie\", but he used this name & number when he became king of England in 1901\n",
      "Name: Question, Length: 118, dtype: object\n"
     ]
    }
   ],
   "source": [
    "# this catch a word and word's , using regular expression as delimiter\n",
    "contains_all_words = lambda question: all(re.search(r\"\\b\" + word + r\"'?\\b\", question, re.IGNORECASE) for word in words)\n",
    "\n",
    "kingEngland_data = all_data[all_data.Question.apply(contains_all_words)]\n",
    "\n",
    "print(kingEngland_data.Question)"
   ]
  },
  {
   "cell_type": "markdown",
   "metadata": {},
   "source": [
    "4. We may want to eventually compute aggregate statistics, like `.mean()` on the `\" Value\"` column. But right now, the values in that column are strings. Convert the`\" Value\"` column to floats. If you'd like to, you can create a new column with float values.\n",
    "\n",
    "   While most of the values in the `\" Value\"` column represent a dollar amount as a string, note that some do not &mdash; these values will need to be handled differently!\n",
    "\n",
    "   Now that you can filter the dataset of question, use your new column that contains the float values of each question to find the \"difficulty\" of certain topics. For example, what is the average value of questions that contain the word `\"King\"`?\n",
    "   \n",
    "   Make sure to use the dataset that contains the float values as the dataset you use in your filtering function."
   ]
  },
  {
   "cell_type": "code",
   "execution_count": 70,
   "metadata": {},
   "outputs": [
    {
     "name": "stdout",
     "output_type": "stream",
     "text": [
      "     Show Number    Air Date             Round                    Category  \\\n",
      "40          4680  2004-12-31  Double Jeopardy!  DR. SEUSS AT THE MULTIPLEX   \n",
      "50          4680  2004-12-31  Double Jeopardy!  DR. SEUSS AT THE MULTIPLEX   \n",
      "399         2825  1996-12-06  Double Jeopardy!                       POETS   \n",
      "545         3036  1997-11-10         Jeopardy!                ON THE RADIO   \n",
      "781         4335  2003-06-06         Jeopardy!                   MY PLACE?   \n",
      "\n",
      "     Value  \\\n",
      "40   $1200   \n",
      "50   $2000   \n",
      "399   $400   \n",
      "545   $200   \n",
      "781   $200   \n",
      "\n",
      "                                                                                                                                                                              Question  \\\n",
      "40   <a href=\"http://www.j-archive.com/media/2004-12-31_DJ_26.mp3\">Ripped from today's headlines, he was a turtle king gone mad; Mack was the one good turtle who'd bring him down</a>   \n",
      "50                 <a href=\"http://www.j-archive.com/media/2004-12-31_DJ_24.mp3\">\"500 Hats\"... 500 ways to die.  On July 4th, this young boy will defy a king... & become a legend</a>   \n",
      "399                                                                                                                Between 1842 & 1885, he repeatedly revised his \"Idylls of the King\"   \n",
      "545                                                                                                    Robin Quivers is the radio consort of this self-proclaimed  \"King of All Media\"   \n",
      "781                                                                                                           A Norman could say, \"I'm the king of the motte-and-bailey style of\" this   \n",
      "\n",
      "                   Answer  float_value  \n",
      "40                 Yertle       1200.0  \n",
      "50    Bartholomew Cubbins       2000.0  \n",
      "399  Alfred Lord Tennyson        400.0  \n",
      "545          Howard Stern        200.0  \n",
      "781                castle        200.0  \n",
      "Average value of questions that contain the word 'King': 817.6001483679526\n"
     ]
    }
   ],
   "source": [
    "#use the same function : contains_all_words but atualize the word list to whar is expected\n",
    "\n",
    "# Clean the \"Value\" column using a lambda function\n",
    "clean_value = lambda x: float(x.replace('$', '').replace(',', '')) if pd.notnull(x) and x not in [\"None\", \"no value\"] else None\n",
    "\n",
    "# Apply the clean_value lambda function to the 'Value' column\n",
    "all_data['float_value'] = all_data.Value.apply(clean_value)\n",
    "\n",
    "words = [\"king\"]\n",
    "\n",
    "# Apply the clean_value lambda function to the 'Value' column\n",
    "questionData = all_data[all_data.Question.apply(contains_all_words)]\n",
    "\n",
    "# Print the filtered DataFrame to verify\n",
    "print(questionData.head())\n",
    "\n",
    "# Calculate the average value of questions that contain the word \"King\"\n",
    "average_value_king = questionData['float_value'].mean()\n",
    "\n",
    "# Print the result\n",
    "print(\"Average value of questions that contain the word 'King':\", average_value_king)\n"
   ]
  },
  {
   "cell_type": "markdown",
   "metadata": {},
   "source": [
    "5. Write a function that returns the count of unique answers to all of the questions in a dataset. For example, after filtering the entire dataset to only questions containing the word `\"King\"`, we could then find all of the unique answers to those questions. The answer \"Henry VIII\" appeared 55 times and was the most common answer."
   ]
  },
  {
   "cell_type": "code",
   "execution_count": 75,
   "metadata": {},
   "outputs": [
    {
     "name": "stdout",
     "output_type": "stream",
     "text": [
      "Answer\n",
      "Henry VIII                           54\n",
      "Solomon                              31\n",
      "Louis XIV                            31\n",
      "David                                29\n",
      "Sweden                               24\n",
      "                                     ..\n",
      "Oscar                                 1\n",
      "Henderson                             1\n",
      "(Catherine) Howard                    1\n",
      "\"The Circle Of Life\"                  1\n",
      "a pyramid (the pyramids accepted)     1\n",
      "Name: count, Length: 1499, dtype: int64\n"
     ]
    }
   ],
   "source": [
    "words = [\"king\"]\n",
    "\n",
    "# Apply the clean_value lambda function to the 'Value' column\n",
    "questionData = all_data[all_data.Question.apply(contains_all_words)]\n",
    "\n",
    "# Count the unique answers in the filtered dataset\n",
    "answer_counts = questionData.Answer.value_counts()\n",
    "\n",
    "# Print the counts of unique answers\n",
    "print(answer_counts)\n"
   ]
  },
  {
   "cell_type": "markdown",
   "metadata": {},
   "source": [
    "6. Explore from here! This is an incredibly rich dataset, and there are so many interesting things to discover. There are a few columns that we haven't even started looking at yet. Here are some ideas on ways to continue working with this data:\n",
    "\n",
    " * Investigate the ways in which questions change over time by filtering by the date. How many questions from the 90s use the word `\"Computer\"` compared to questions from the 2000s?\n",
    " * Is there a connection between the round and the category? Are you more likely to find certain categories, like `\"Literature\"` in Single Jeopardy or Double Jeopardy?\n",
    " * Build a system to quiz yourself. Grab random questions, and use the <a href=\"https://docs.python.org/3/library/functions.html#input\">input</a> function to get a response from the user. Check to see if that response was right or wrong."
   ]
  },
  {
   "cell_type": "code",
   "execution_count": 103,
   "metadata": {},
   "outputs": [
    {
     "name": "stdout",
     "output_type": "stream",
     "text": [
      "Number of questions containing 'Computer' in the 90s: 79\n",
      "Number of questions containing 'Computer' in the 2000s: 227\n",
      "\n",
      "----------------------------------\n",
      "Category           A JIM CARREY FILM FESTIVAL  \"!\"  \"-ARES\"  \\\n",
      "Round                                                         \n",
      "Double Jeopardy!                          0.0  0.0      5.0   \n",
      "Final Jeopardy!                           0.0  0.0      0.0   \n",
      "Jeopardy!                                 5.0  5.0      0.0   \n",
      "Tiebreaker                                0.0  0.0      0.0   \n",
      "\n",
      "Category          \"-ICIAN\" EXPEDITION  \"...OD\" WORDS  \"1\", \"2\", \"3\"  \\\n",
      "Round                                                                 \n",
      "Double Jeopardy!                  0.0            5.0            5.0   \n",
      "Final Jeopardy!                   0.0            0.0            0.0   \n",
      "Jeopardy!                         5.0            0.0            0.0   \n",
      "Tiebreaker                        0.0            0.0            0.0   \n",
      "\n",
      "Category          \"20\" QUESTIONS  \"A\" & \"E\"  \"A\" & \"M\"  \"A\" + 4  ...  “CC”  \\\n",
      "Round                                                            ...         \n",
      "Double Jeopardy!             5.0        0.0        0.0      5.0  ...   0.0   \n",
      "Final Jeopardy!              0.0        0.0        0.0      0.0  ...   0.0   \n",
      "Jeopardy!                    0.0        5.0        5.0      0.0  ...   5.0   \n",
      "Tiebreaker                   0.0        0.0        0.0      0.0  ...   0.0   \n",
      "\n",
      "Category          “GUT”s  “G” WHIZ!  “HARD” & “EASY” MOVIES  “NORTH”  \\\n",
      "Round                                                                  \n",
      "Double Jeopardy!     5.0        0.0                     5.0      0.0   \n",
      "Final Jeopardy!      0.0        0.0                     0.0      0.0   \n",
      "Jeopardy!            0.0        5.0                     0.0      5.0   \n",
      "Tiebreaker           0.0        0.0                     0.0      0.0   \n",
      "\n",
      "Category          “R” MOVIES  “SAINTS”  “SOUTH”  “STREETS”  “WH”AT IS IT?  \n",
      "Round                                                                      \n",
      "Double Jeopardy!         5.0       4.0      5.0        0.0            5.0  \n",
      "Final Jeopardy!          0.0       0.0      0.0        0.0            0.0  \n",
      "Jeopardy!                0.0       0.0      0.0        5.0            0.0  \n",
      "Tiebreaker               0.0       0.0      0.0        0.0            0.0  \n",
      "\n",
      "[4 rows x 27995 columns]\n",
      "\n",
      "Counts of 'Literature' category in different rounds:\n",
      "Round\n",
      "Double Jeopardy!    381.0\n",
      "Final Jeopardy!      10.0\n",
      "Jeopardy!           105.0\n",
      "Tiebreaker            0.0\n",
      "Name: LITERATURE, dtype: float64\n",
      "\n",
      "----------------------------------\n",
      "The quiz will consist of 5 questions. Type 'exit' at any time to stop the quiz.\n",
      "\n",
      "Question 1: At 10,000 feet in elevation, the Timberline campus of this state's Mountain College is the highest in the U.S.\n"
     ]
    },
    {
     "name": "stdin",
     "output_type": "stream",
     "text": [
      "Your answer (type 'exit' to stop):  exit\n"
     ]
    },
    {
     "name": "stdout",
     "output_type": "stream",
     "text": [
      "You chose to exit the quiz.\n",
      "Your final score is 0 out of 0\n"
     ]
    }
   ],
   "source": [
    "words = [\"Computer\"]\n",
    "\n",
    "''' [1]\n",
    "Investigate the ways in which questions change over time by filtering by the date. \n",
    "How many questions from the 90s use the word \"Computer\" compared to questions from the 2000s?\n",
    "'''\n",
    "# Apply the clean_value lambda function to the 'Value' column\n",
    "questionData = all_data[all_data.Question.apply(contains_all_words)]\n",
    "\n",
    "# Filter by decade\n",
    "questionData_90s = questionData[(questionData['Air Date'] >= '1990-01-01') & (questionData['Air Date'] < '2000-01-01')]\n",
    "questionData_2000s = questionData[(questionData['Air Date'] >= '2000-01-01') & (questionData['Air Date'] < '2010-01-01')]\n",
    "\n",
    "# Count the number of questions in each decade\n",
    "count_90s = questionData_90s.shape[0]\n",
    "count_2000s = questionData_2000s.shape[0]\n",
    "\n",
    "print(f\"Number of questions containing 'Computer' in the 90s: {count_90s}\")\n",
    "print(f\"Number of questions containing 'Computer' in the 2000s: {count_2000s}\")\n",
    "\n",
    "''' [2]\n",
    "Is there a connection between the round and the category? \n",
    "Are you more likely to find certain categories, \n",
    "like \"Literature\" in Single Jeopardy or Double Jeopardy?\n",
    "'''\n",
    "print(\"\\n----------------------------------\")\n",
    "# Count the number of occurrences of each category in each round\n",
    "category_round_counts = all_data.groupby(['Round', 'Category']).size().unstack().fillna(0)\n",
    "\n",
    "print(category_round_counts)\n",
    "\n",
    "# Example to check for \"Literature\" category\n",
    "literature_counts = category_round_counts.get('LITERATURE', \"Literature category not found\")\n",
    "\n",
    "print(f\"\\nCounts of 'Literature' category in different rounds:\\n{literature_counts}\")\n",
    "\n",
    "''' [2]\n",
    "Build a system to quiz yourself. Grab random questions, \n",
    "and use the input function to get a response from the user. \n",
    "Check to see if that response was right or wrong.\n",
    "'''\n",
    "print(\"\\n----------------------------------\")\n",
    "\n",
    "import random\n",
    "\n",
    "# Define the quiz system function\n",
    "def quiz_system(data, num_questions=5):\n",
    "    print(f\"The quiz will consist of {num_questions} questions. Type 'exit' at any time to stop the quiz.\\n\")\n",
    "    \n",
    "    # Shuffle the data\n",
    "    shuffled_data = data.sample(frac=1).reset_index(drop=True)\n",
    "    \n",
    "    score = 0\n",
    "    \n",
    "    for i in range(num_questions):\n",
    "        question = shuffled_data.iloc[i]['Question']\n",
    "        correct_answer = shuffled_data.iloc[i]['Answer']\n",
    "        \n",
    "        print(f\"Question {i+1}: {question}\")\n",
    "        user_answer = input(\"Your answer (type 'exit' to stop): \")\n",
    "        \n",
    "        if user_answer.lower() == 'exit':\n",
    "            print(\"You chose to exit the quiz.\")\n",
    "            break\n",
    "        \n",
    "        if user_answer.lower() == correct_answer.lower():\n",
    "            print(\"Correct!\")\n",
    "            score += 1\n",
    "        else:\n",
    "            print(f\"Wrong. The correct answer is: {correct_answer}\")\n",
    "        print()\n",
    "    \n",
    "    print(f\"Your final score is {score} out of {i+1 if user_answer.lower() != 'exit' else i}\")\n",
    "\n",
    "# Use the entire dataset for the quiz\n",
    "quiz_system(all_data)\n"
   ]
  },
  {
   "cell_type": "markdown",
   "metadata": {},
   "source": [
    "## Solution"
   ]
  },
  {
   "cell_type": "markdown",
   "metadata": {},
   "source": [
    "7. Compare your program to our <a href=\"https://content.codecademy.com/PRO/independent-practice-projects/jeopardy/jeopardy_solution.zip\">sample solution code</a> - remember, that your program might look different from ours (and probably will) and that's okay!"
   ]
  },
  {
   "cell_type": "markdown",
   "metadata": {},
   "source": [
    "8. Great work! Visit <a href=\"https://discuss.codecademy.com/t/this-is-jeopardy-challenge-project-python-pandas/462365\">our forums</a> to compare your project to our sample solution code. You can also learn how to host your own solution on GitHub so you can share it with other learners! Your solution might look different from ours, and that's okay! There are multiple ways to solve these projects, and you'll learn more by seeing others' code."
   ]
  },
  {
   "cell_type": "code",
   "execution_count": null,
   "metadata": {},
   "outputs": [],
   "source": []
  }
 ],
 "metadata": {
  "kernelspec": {
   "display_name": "Python 3 (ipykernel)",
   "language": "python",
   "name": "python3"
  },
  "language_info": {
   "codemirror_mode": {
    "name": "ipython",
    "version": 3
   },
   "file_extension": ".py",
   "mimetype": "text/x-python",
   "name": "python",
   "nbconvert_exporter": "python",
   "pygments_lexer": "ipython3",
   "version": "3.11.5"
  }
 },
 "nbformat": 4,
 "nbformat_minor": 4
}
